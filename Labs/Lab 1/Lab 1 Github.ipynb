{
 "cells": [
  {
   "cell_type": "markdown",
   "id": "f36590f2-3da9-4a09-9a90-a8662be09118",
   "metadata": {},
   "source": [
    "## Lab 1"
   ]
  },
  {
   "cell_type": "markdown",
   "id": "8a31cdd3-5fe6-4243-8955-570a11af68a4",
   "metadata": {},
   "source": [
    "##### Course:Time Series Forecasting with Machine Learning Arabic || سلسلة تحليل السلاسل الزمنيه باستخدام تعليم الآلة شرح باللغة العربية \n",
    "##### https://www.youtube.com/@AI_Horizons_Arabic/playlists\n",
    "##### By: Asmaa Mahmoud Saeed || اعداد وشرح:أسماء محمود سعيد\n",
    "##### Linkedin https://www.linkedin.com/in/asmaa-m-491750194/\n",
    "##### Github https://github.com/AsmaaMahmoudSaeed\n",
    "##### Huggingface https://huggingface.co/AsmaaMahmoudSaeddd\n"
   ]
  },
  {
   "cell_type": "markdown",
   "id": "e929603a-7c06-4150-a81c-83d43f159063",
   "metadata": {},
   "source": [
    "#### Course Sources\n",
    "\n",
    "* الجامعه الإسلامية بغزة https://www.youtube.com/watch?v=BNprknQU4p4&list=PL9fwy3NUQKwZCbh9PqVo5c2caNsH3zdsW&index=1\n",
    "* https://app.datacamp.com\n",
    "* https://towardsdatascience.com/\n",
    "*https://www.intel.com/content/www/us/en/developer/topic-technology/artificial-intelligence/training/course-time-series-analysis.html\n",
    "* https://www.geeksforgeeks.org/components-of-time-series-data/\n",
    "* https://www.datasciencesmachinelearning.com/2018/12/components-of-time-series.html\n",
    "* https://otexts.com/fpp2/moving-averages.html\n",
    "* https://online.stat.psu.edu/stat510/lesson/5/5.1\n",
    "\n",
    "* Book 1:Time Series Analysis with Python Cookbook\n",
    "* Book 2:Time Series Algorithms Recipes\n",
    "* Book 3:Introduction to Time Series Forecasting with Python How to Prepare Data and Develop Models to Predict the  Future by Jason Brownlee\n",
    "* Book 4:Practical Time Series Analysis_ Prediction with Statistics and Machine Learning\n",
    "* Book 5:deep learning for time series forecasting"
   ]
  },
  {
   "cell_type": "markdown",
   "id": "cc1f3dac-5f42-4c0d-ae98-80dafb21bc25",
   "metadata": {},
   "source": [
    "### Reading from CSVs "
   ]
  },
  {
   "cell_type": "code",
   "execution_count": 35,
   "id": "0ecc3461-43e2-4c09-945c-033f8eff4342",
   "metadata": {},
   "outputs": [
    {
     "data": {
      "text/plain": [
       "'2.2.3'"
      ]
     },
     "execution_count": 35,
     "metadata": {},
     "output_type": "execute_result"
    }
   ],
   "source": [
    "import pandas as pd\n",
    "from pathlib import Path\n",
    "pd.__version__"
   ]
  },
  {
   "cell_type": "code",
   "execution_count": 36,
   "id": "ffcaab98-7d62-4f82-97ed-85f8c1d8b820",
   "metadata": {},
   "outputs": [],
   "source": [
    "#Python pathlib module provides an object-oriented way to handle filesystem paths.\n",
    "#\"C:\\Users\\musta\\TS Yotube\\Lab 1\\movieboxoffice.csv\"\n",
    "#\"C:\\Users\\musta\\TS Yotube\\Lab 1\\movieboxoffice.csv\"\n",
    "filepath = Path('C:/Users/musta/TS Yotube/Lab 1/movieboxoffice.csv')\n"
   ]
  },
  {
   "cell_type": "code",
   "execution_count": 37,
   "id": "aa33d6f8-d21d-4c67-9231-97593196306d",
   "metadata": {},
   "outputs": [
    {
     "name": "stderr",
     "output_type": "stream",
     "text": [
      "C:\\Users\\musta\\AppData\\Local\\Temp\\ipykernel_20016\\3544380206.py:3: UserWarning: Could not infer format, so each element will be parsed individually, falling back to `dateutil`. To ensure parsing is consistent and as-expected, please specify a format.\n",
      "  ts = pd.read_csv(filepath,\n"
     ]
    }
   ],
   "source": [
    "# read movieboxoffice.csv data and parse the Date column (first column) as date\n",
    "#\"C:\\Users\\musta\\TS Yotube\\Lab 1\\movieboxoffice.csv\"\n",
    "ts = pd.read_csv(filepath,\n",
    "                 header=0,  #header=0 denotes the first line of data rather than the first line of the file.\n",
    "                 parse_dates=[0],  # Parse first column\n",
    "                 index_col=0,  #The index_col parameter sets one or more columns as the DataFrame index, making the specified \n",
    "                            #  column(s) act as row labels for easier data referencing\n",
    "                 \n",
    "                 usecols=['Date',\n",
    "                          'DOW',\n",
    "                          'Daily',\n",
    "                          'Forecast',\n",
    "                          'Percent Diff'])\n",
    "#print(ts.head())"
   ]
  },
  {
   "cell_type": "code",
   "execution_count": 38,
   "id": "d4245e86-9e9e-470a-8000-32e9f13cb731",
   "metadata": {},
   "outputs": [
    {
     "data": {
      "text/html": [
       "<div>\n",
       "<style scoped>\n",
       "    .dataframe tbody tr th:only-of-type {\n",
       "        vertical-align: middle;\n",
       "    }\n",
       "\n",
       "    .dataframe tbody tr th {\n",
       "        vertical-align: top;\n",
       "    }\n",
       "\n",
       "    .dataframe thead th {\n",
       "        text-align: right;\n",
       "    }\n",
       "</style>\n",
       "<table border=\"1\" class=\"dataframe\">\n",
       "  <thead>\n",
       "    <tr style=\"text-align: right;\">\n",
       "      <th></th>\n",
       "      <th>DOW</th>\n",
       "      <th>Daily</th>\n",
       "      <th>Forecast</th>\n",
       "      <th>Percent Diff</th>\n",
       "    </tr>\n",
       "    <tr>\n",
       "      <th>Date</th>\n",
       "      <th></th>\n",
       "      <th></th>\n",
       "      <th></th>\n",
       "      <th></th>\n",
       "    </tr>\n",
       "  </thead>\n",
       "  <tbody>\n",
       "    <tr>\n",
       "      <th>2021-04-26</th>\n",
       "      <td>Friday</td>\n",
       "      <td>$125,789.89</td>\n",
       "      <td>$235,036.46</td>\n",
       "      <td>-46.48%</td>\n",
       "    </tr>\n",
       "    <tr>\n",
       "      <th>2021-04-27</th>\n",
       "      <td>Saturday</td>\n",
       "      <td>$99,374.01</td>\n",
       "      <td>$197,622.55</td>\n",
       "      <td>-49.72%</td>\n",
       "    </tr>\n",
       "    <tr>\n",
       "      <th>2021-04-28</th>\n",
       "      <td>Sunday</td>\n",
       "      <td>$82,203.16</td>\n",
       "      <td>$116,991.26</td>\n",
       "      <td>-29.74%</td>\n",
       "    </tr>\n",
       "    <tr>\n",
       "      <th>2021-04-29</th>\n",
       "      <td>Monday</td>\n",
       "      <td>$33,530.26</td>\n",
       "      <td>$66,652.65</td>\n",
       "      <td>-49.69%</td>\n",
       "    </tr>\n",
       "    <tr>\n",
       "      <th>2021-04-30</th>\n",
       "      <td>Tuesday</td>\n",
       "      <td>$30,105.24</td>\n",
       "      <td>$34,828.19</td>\n",
       "      <td>-13.56%</td>\n",
       "    </tr>\n",
       "  </tbody>\n",
       "</table>\n",
       "</div>"
      ],
      "text/plain": [
       "                 DOW          Daily       Forecast Percent Diff\n",
       "Date                                                           \n",
       "2021-04-26    Friday   $125,789.89    $235,036.46       -46.48%\n",
       "2021-04-27  Saturday    $99,374.01    $197,622.55       -49.72%\n",
       "2021-04-28    Sunday    $82,203.16    $116,991.26       -29.74%\n",
       "2021-04-29    Monday    $33,530.26     $66,652.65       -49.69%\n",
       "2021-04-30   Tuesday    $30,105.24     $34,828.19       -13.56%"
      ]
     },
     "execution_count": 38,
     "metadata": {},
     "output_type": "execute_result"
    }
   ],
   "source": [
    "ts.head()"
   ]
  },
  {
   "cell_type": "code",
   "execution_count": 43,
   "id": "14b0182e-98be-4c79-8db9-2ed76a182813",
   "metadata": {},
   "outputs": [
    {
     "name": "stdout",
     "output_type": "stream",
     "text": [
      "<class 'pandas.core.frame.DataFrame'>\n",
      "DatetimeIndex: 128 entries, 2021-04-26 to 2021-08-31\n",
      "Data columns (total 4 columns):\n",
      " #   Column        Non-Null Count  Dtype \n",
      "---  ------        --------------  ----- \n",
      " 0   DOW           128 non-null    object\n",
      " 1   Daily         128 non-null    object\n",
      " 2   Forecast      128 non-null    object\n",
      " 3   Percent Diff  128 non-null    object\n",
      "dtypes: object(4)\n",
      "memory usage: 5.0+ KB\n"
     ]
    }
   ],
   "source": [
    "ts.info()"
   ]
  },
  {
   "cell_type": "markdown",
   "id": "07775018-5134-4ec4-ac7b-68b5634eb9ad",
   "metadata": {},
   "source": [
    "**Data Cleanup**"
   ]
  },
  {
   "cell_type": "code",
   "execution_count": 44,
   "id": "2a6ef6a8-65c9-472d-9c71-1bbc74402ea0",
   "metadata": {},
   "outputs": [
    {
     "data": {
      "text/plain": [
       "DOW             object\n",
       "Daily           object\n",
       "Forecast        object\n",
       "Percent Diff    object\n",
       "dtype: object"
      ]
     },
     "execution_count": 44,
     "metadata": {},
     "output_type": "execute_result"
    }
   ],
   "source": [
    "ts.dtypes"
   ]
  },
  {
   "cell_type": "code",
   "execution_count": 45,
   "id": "ce6c5f71-ce3b-4bc1-82f1-c38bedf9fad0",
   "metadata": {},
   "outputs": [
    {
     "name": "stderr",
     "output_type": "stream",
     "text": [
      "C:\\Users\\musta\\AppData\\Local\\Temp\\ipykernel_20016\\796797683.py:1: FutureWarning: Series.__getitem__ treating keys as positions is deprecated. In a future version, integer keys will always be treated as labels (consistent with DataFrame behavior). To access a value by position, use `ser.iloc[pos]`\n",
      "  type(ts['Daily'][4])\n"
     ]
    },
    {
     "data": {
      "text/plain": [
       "str"
      ]
     },
     "execution_count": 45,
     "metadata": {},
     "output_type": "execute_result"
    }
   ],
   "source": [
    "type(ts['Daily'][4])"
   ]
  },
  {
   "cell_type": "code",
   "execution_count": 46,
   "id": "df34d125-5ad8-41c2-a6c4-09145605891b",
   "metadata": {},
   "outputs": [],
   "source": [
    "clean = lambda x: x.str.replace('[^\\\\d.-]', '', regex=True)                                                      \n",
    "c_df = ts[['Daily', 'Forecast', 'Percent Diff']].apply(clean, axis=1)## axis=1 secect columns\n",
    "ts[['Daily', 'Forecast', 'Percent Diff']] = c_df.astype(float)         "
   ]
  },
  {
   "cell_type": "code",
   "execution_count": 47,
   "id": "ae90d0a0-02e4-4a48-8bed-2fea8d612252",
   "metadata": {},
   "outputs": [
    {
     "data": {
      "text/html": [
       "<div>\n",
       "<style scoped>\n",
       "    .dataframe tbody tr th:only-of-type {\n",
       "        vertical-align: middle;\n",
       "    }\n",
       "\n",
       "    .dataframe tbody tr th {\n",
       "        vertical-align: top;\n",
       "    }\n",
       "\n",
       "    .dataframe thead th {\n",
       "        text-align: right;\n",
       "    }\n",
       "</style>\n",
       "<table border=\"1\" class=\"dataframe\">\n",
       "  <thead>\n",
       "    <tr style=\"text-align: right;\">\n",
       "      <th></th>\n",
       "      <th>DOW</th>\n",
       "      <th>Daily</th>\n",
       "      <th>Forecast</th>\n",
       "      <th>Percent Diff</th>\n",
       "    </tr>\n",
       "    <tr>\n",
       "      <th>Date</th>\n",
       "      <th></th>\n",
       "      <th></th>\n",
       "      <th></th>\n",
       "      <th></th>\n",
       "    </tr>\n",
       "  </thead>\n",
       "  <tbody>\n",
       "    <tr>\n",
       "      <th>2021-04-26</th>\n",
       "      <td>Friday</td>\n",
       "      <td>125789.89</td>\n",
       "      <td>235036.46</td>\n",
       "      <td>-46.48</td>\n",
       "    </tr>\n",
       "    <tr>\n",
       "      <th>2021-04-27</th>\n",
       "      <td>Saturday</td>\n",
       "      <td>99374.01</td>\n",
       "      <td>197622.55</td>\n",
       "      <td>-49.72</td>\n",
       "    </tr>\n",
       "    <tr>\n",
       "      <th>2021-04-28</th>\n",
       "      <td>Sunday</td>\n",
       "      <td>82203.16</td>\n",
       "      <td>116991.26</td>\n",
       "      <td>-29.74</td>\n",
       "    </tr>\n",
       "    <tr>\n",
       "      <th>2021-04-29</th>\n",
       "      <td>Monday</td>\n",
       "      <td>33530.26</td>\n",
       "      <td>66652.65</td>\n",
       "      <td>-49.69</td>\n",
       "    </tr>\n",
       "    <tr>\n",
       "      <th>2021-04-30</th>\n",
       "      <td>Tuesday</td>\n",
       "      <td>30105.24</td>\n",
       "      <td>34828.19</td>\n",
       "      <td>-13.56</td>\n",
       "    </tr>\n",
       "  </tbody>\n",
       "</table>\n",
       "</div>"
      ],
      "text/plain": [
       "                 DOW      Daily   Forecast  Percent Diff\n",
       "Date                                                    \n",
       "2021-04-26    Friday  125789.89  235036.46        -46.48\n",
       "2021-04-27  Saturday   99374.01  197622.55        -49.72\n",
       "2021-04-28    Sunday   82203.16  116991.26        -29.74\n",
       "2021-04-29    Monday   33530.26   66652.65        -49.69\n",
       "2021-04-30   Tuesday   30105.24   34828.19        -13.56"
      ]
     },
     "execution_count": 47,
     "metadata": {},
     "output_type": "execute_result"
    }
   ],
   "source": [
    "ts.head()"
   ]
  },
  {
   "cell_type": "code",
   "execution_count": 48,
   "id": "3fa8c60e-c65e-48af-b6f7-86644492d107",
   "metadata": {},
   "outputs": [
    {
     "name": "stdout",
     "output_type": "stream",
     "text": [
      "<class 'pandas.core.frame.DataFrame'>\n",
      "DatetimeIndex: 128 entries, 2021-04-26 to 2021-08-31\n",
      "Data columns (total 4 columns):\n",
      " #   Column        Non-Null Count  Dtype  \n",
      "---  ------        --------------  -----  \n",
      " 0   DOW           128 non-null    object \n",
      " 1   Daily         128 non-null    float64\n",
      " 2   Forecast      128 non-null    float64\n",
      " 3   Percent Diff  128 non-null    float64\n",
      "dtypes: float64(3), object(1)\n",
      "memory usage: 5.0+ KB\n"
     ]
    }
   ],
   "source": [
    "ts.info()"
   ]
  },
  {
   "cell_type": "code",
   "execution_count": 50,
   "id": "a7a73f75-482a-4347-804b-889d534b1868",
   "metadata": {},
   "outputs": [
    {
     "name": "stderr",
     "output_type": "stream",
     "text": [
      "C:\\Users\\musta\\AppData\\Local\\Temp\\ipykernel_20016\\796797683.py:1: FutureWarning: Series.__getitem__ treating keys as positions is deprecated. In a future version, integer keys will always be treated as labels (consistent with DataFrame behavior). To access a value by position, use `ser.iloc[pos]`\n",
      "  type(ts['Daily'][4])\n"
     ]
    },
    {
     "data": {
      "text/plain": [
       "numpy.float64"
      ]
     },
     "execution_count": 50,
     "metadata": {},
     "output_type": "execute_result"
    }
   ],
   "source": [
    "type(ts['Daily'][4])"
   ]
  },
  {
   "cell_type": "code",
   "execution_count": 49,
   "id": "367af7b5-e8e3-4fc6-aa25-48ab82c4eead",
   "metadata": {},
   "outputs": [
    {
     "data": {
      "text/plain": [
       "Index           1024\n",
       "DOW             1024\n",
       "Daily           1024\n",
       "Forecast        1024\n",
       "Percent Diff    1024\n",
       "dtype: int64"
      ]
     },
     "execution_count": 49,
     "metadata": {},
     "output_type": "execute_result"
    }
   ],
   "source": [
    "ts.memory_usage() #Return the memory usage of each column in bytes."
   ]
  },
  {
   "cell_type": "code",
   "execution_count": 12,
   "id": "dd77485e-1790-4cae-96b3-cae2e365de6b",
   "metadata": {},
   "outputs": [
    {
     "name": "stdout",
     "output_type": "stream",
     "text": [
      "(128, 4)\n"
     ]
    }
   ],
   "source": [
    "print(ts.shape) "
   ]
  },
  {
   "cell_type": "code",
   "execution_count": 13,
   "id": "a8928d19-436c-4d5a-a662-c157ceb14496",
   "metadata": {},
   "outputs": [
    {
     "data": {
      "text/plain": [
       "np.int64(5120)"
      ]
     },
     "execution_count": 13,
     "metadata": {},
     "output_type": "execute_result"
    }
   ],
   "source": [
    "ts.memory_usage().sum()"
   ]
  },
  {
   "cell_type": "code",
   "execution_count": 14,
   "id": "536f9a2a-5b32-433f-ad4d-c41735b43f78",
   "metadata": {},
   "outputs": [
    {
     "data": {
      "text/plain": [
       "Index(['Date', 'DOW', 'Rank', 'Daily', 'Percent Change', 'Diff (k)',\n",
       "       'Forecast', 'Percent Diff', 'Theaters', 'To Date', 'Row ID'],\n",
       "      dtype='object')"
      ]
     },
     "execution_count": 14,
     "metadata": {},
     "output_type": "execute_result"
    }
   ],
   "source": [
    "pd.read_csv(filepath).columns"
   ]
  },
  {
   "cell_type": "markdown",
   "id": "4df12b02-2961-420d-abf7-c30f78ec8bea",
   "metadata": {},
   "source": [
    "##### columns rename"
   ]
  },
  {
   "cell_type": "code",
   "execution_count": 15,
   "id": "0749999f-2ba9-4e96-9e0a-aa8300af8ed1",
   "metadata": {},
   "outputs": [
    {
     "name": "stderr",
     "output_type": "stream",
     "text": [
      "C:\\Users\\musta\\AppData\\Local\\Temp\\ipykernel_5308\\3471465426.py:2: UserWarning: Could not infer format, so each element will be parsed individually, falling back to `dateutil`. To ensure parsing is consistent and as-expected, please specify a format.\n",
      "  df = pd.read_csv(filepath,\n"
     ]
    },
    {
     "data": {
      "text/html": [
       "<div>\n",
       "<style scoped>\n",
       "    .dataframe tbody tr th:only-of-type {\n",
       "        vertical-align: middle;\n",
       "    }\n",
       "\n",
       "    .dataframe tbody tr th {\n",
       "        vertical-align: top;\n",
       "    }\n",
       "\n",
       "    .dataframe thead th {\n",
       "        text-align: right;\n",
       "    }\n",
       "</style>\n",
       "<table border=\"1\" class=\"dataframe\">\n",
       "  <thead>\n",
       "    <tr style=\"text-align: right;\">\n",
       "      <th></th>\n",
       "      <th>Day Name</th>\n",
       "      <th>Daily BO</th>\n",
       "      <th>Forecast BO</th>\n",
       "    </tr>\n",
       "    <tr>\n",
       "      <th>Date</th>\n",
       "      <th></th>\n",
       "      <th></th>\n",
       "      <th></th>\n",
       "    </tr>\n",
       "  </thead>\n",
       "  <tbody>\n",
       "    <tr>\n",
       "      <th>2021-04-26</th>\n",
       "      <td>Friday</td>\n",
       "      <td>$125,789.89</td>\n",
       "      <td>$235,036.46</td>\n",
       "    </tr>\n",
       "    <tr>\n",
       "      <th>2021-04-27</th>\n",
       "      <td>Saturday</td>\n",
       "      <td>$99,374.01</td>\n",
       "      <td>$197,622.55</td>\n",
       "    </tr>\n",
       "    <tr>\n",
       "      <th>2021-04-28</th>\n",
       "      <td>Sunday</td>\n",
       "      <td>$82,203.16</td>\n",
       "      <td>$116,991.26</td>\n",
       "    </tr>\n",
       "    <tr>\n",
       "      <th>2021-04-29</th>\n",
       "      <td>Monday</td>\n",
       "      <td>$33,530.26</td>\n",
       "      <td>$66,652.65</td>\n",
       "    </tr>\n",
       "    <tr>\n",
       "      <th>2021-04-30</th>\n",
       "      <td>Tuesday</td>\n",
       "      <td>$30,105.24</td>\n",
       "      <td>$34,828.19</td>\n",
       "    </tr>\n",
       "  </tbody>\n",
       "</table>\n",
       "</div>"
      ],
      "text/plain": [
       "            Day Name       Daily BO    Forecast BO\n",
       "Date                                              \n",
       "2021-04-26    Friday   $125,789.89    $235,036.46 \n",
       "2021-04-27  Saturday    $99,374.01    $197,622.55 \n",
       "2021-04-28    Sunday    $82,203.16    $116,991.26 \n",
       "2021-04-29    Monday    $33,530.26     $66,652.65 \n",
       "2021-04-30   Tuesday    $30,105.24     $34,828.19 "
      ]
     },
     "execution_count": 15,
     "metadata": {},
     "output_type": "execute_result"
    }
   ],
   "source": [
    "col_names = ['Date', 'Day Name', 'Daily BO', 'Forecast BO']\n",
    "df = pd.read_csv(filepath, \n",
    "                 parse_dates=[0],\n",
    "                 index_col=0,\n",
    "                 header=0, \n",
    "                 names=col_names, \n",
    "                 usecols=[0, 1, 3, 6])\n",
    "df.head()"
   ]
  },
  {
   "cell_type": "code",
   "execution_count": 16,
   "id": "0cba85b8-98c3-4123-ae0b-bfd27302559c",
   "metadata": {},
   "outputs": [
    {
     "name": "stderr",
     "output_type": "stream",
     "text": [
      "C:\\Users\\musta\\AppData\\Local\\Temp\\ipykernel_5308\\3505744925.py:8: UserWarning: Could not infer format, so each element will be parsed individually, falling back to `dateutil`. To ensure parsing is consistent and as-expected, please specify a format.\n",
      "  df = pd.read_csv(filepath,\n"
     ]
    },
    {
     "data": {
      "text/html": [
       "<div>\n",
       "<style scoped>\n",
       "    .dataframe tbody tr th:only-of-type {\n",
       "        vertical-align: middle;\n",
       "    }\n",
       "\n",
       "    .dataframe tbody tr th {\n",
       "        vertical-align: top;\n",
       "    }\n",
       "\n",
       "    .dataframe thead th {\n",
       "        text-align: right;\n",
       "    }\n",
       "</style>\n",
       "<table border=\"1\" class=\"dataframe\">\n",
       "  <thead>\n",
       "    <tr style=\"text-align: right;\">\n",
       "      <th></th>\n",
       "      <th>Day Name</th>\n",
       "      <th>Daily BO</th>\n",
       "      <th>Forecast BO</th>\n",
       "    </tr>\n",
       "    <tr>\n",
       "      <th>Date</th>\n",
       "      <th></th>\n",
       "      <th></th>\n",
       "      <th></th>\n",
       "    </tr>\n",
       "  </thead>\n",
       "  <tbody>\n",
       "    <tr>\n",
       "      <th>2021-04-26</th>\n",
       "      <td>Friday</td>\n",
       "      <td>$125,789.89</td>\n",
       "      <td>$235,036.46</td>\n",
       "    </tr>\n",
       "    <tr>\n",
       "      <th>2021-04-27</th>\n",
       "      <td>Saturday</td>\n",
       "      <td>$99,374.01</td>\n",
       "      <td>$197,622.55</td>\n",
       "    </tr>\n",
       "    <tr>\n",
       "      <th>2021-04-28</th>\n",
       "      <td>Sunday</td>\n",
       "      <td>$82,203.16</td>\n",
       "      <td>$116,991.26</td>\n",
       "    </tr>\n",
       "    <tr>\n",
       "      <th>2021-04-29</th>\n",
       "      <td>Monday</td>\n",
       "      <td>$33,530.26</td>\n",
       "      <td>$66,652.65</td>\n",
       "    </tr>\n",
       "    <tr>\n",
       "      <th>2021-04-30</th>\n",
       "      <td>Tuesday</td>\n",
       "      <td>$30,105.24</td>\n",
       "      <td>$34,828.19</td>\n",
       "    </tr>\n",
       "  </tbody>\n",
       "</table>\n",
       "</div>"
      ],
      "text/plain": [
       "            Day Name       Daily BO    Forecast BO\n",
       "Date                                              \n",
       "2021-04-26    Friday   $125,789.89    $235,036.46 \n",
       "2021-04-27  Saturday    $99,374.01    $197,622.55 \n",
       "2021-04-28    Sunday    $82,203.16    $116,991.26 \n",
       "2021-04-29    Monday    $33,530.26     $66,652.65 \n",
       "2021-04-30   Tuesday    $30,105.24     $34,828.19 "
      ]
     },
     "execution_count": 16,
     "metadata": {},
     "output_type": "execute_result"
    }
   ],
   "source": [
    "col_names = {\n",
    "    'Date': 'Date',\n",
    "    'DOW': 'Day Name',\n",
    "    'Daily': 'Daily BO',\n",
    "    'Forecast': 'Forecast BO'\n",
    "}\n",
    "\n",
    "df = pd.read_csv(filepath, \n",
    "                 parse_dates=[0],\n",
    "                 index_col=0,\n",
    "                 usecols=col_names.keys())\n",
    "df.rename(columns=col_names, inplace=True)\n",
    "\n",
    "df.head()"
   ]
  },
  {
   "cell_type": "markdown",
   "id": "e6212e1e-caf4-47e9-b8f3-2db31a9ebcd8",
   "metadata": {},
   "source": [
    "## Using `date  formate`"
   ]
  },
  {
   "cell_type": "code",
   "execution_count": 17,
   "id": "5b4759cf-8747-405f-ba15-77cd10493a4c",
   "metadata": {},
   "outputs": [
    {
     "data": {
      "text/plain": [
       "DOW              object\n",
       "Daily           float64\n",
       "Forecast        float64\n",
       "Percent Diff    float64\n",
       "dtype: object"
      ]
     },
     "execution_count": 17,
     "metadata": {},
     "output_type": "execute_result"
    }
   ],
   "source": [
    "ts.dtypes"
   ]
  },
  {
   "cell_type": "markdown",
   "id": "e40a1e0f-1554-4940-8ca8-45f0ae1c7730",
   "metadata": {},
   "source": [
    "using the `date_format` parameter "
   ]
  },
  {
   "cell_type": "code",
   "execution_count": 18,
   "id": "83304c00-6b36-410c-9511-ba072dc830fc",
   "metadata": {},
   "outputs": [
    {
     "name": "stdout",
     "output_type": "stream",
     "text": [
      "                DOW          Daily       Forecast Percent Diff\n",
      "Date                                                          \n",
      "26-Apr-21    Friday   $125,789.89    $235,036.46       -46.48%\n",
      "27-Apr-21  Saturday    $99,374.01    $197,622.55       -49.72%\n",
      "28-Apr-21    Sunday    $82,203.16    $116,991.26       -29.74%\n",
      "29-Apr-21    Monday    $33,530.26     $66,652.65       -49.69%\n",
      "30-Apr-21   Tuesday    $30,105.24     $34,828.19       -13.56%\n"
     ]
    }
   ],
   "source": [
    "ts = pd.read_csv(filepath,\n",
    "                 parse_dates=[0],\n",
    "                 index_col=0,\n",
    "                 date_format=\"%d-%b-%Y\",\n",
    "                 usecols=[0,1,3, 7, 6])\n",
    "print(ts.head())"
   ]
  },
  {
   "cell_type": "code",
   "execution_count": 19,
   "id": "bc4ca0c9-d5b5-41f4-a88c-f22dfe30fbbf",
   "metadata": {},
   "outputs": [
    {
     "name": "stdout",
     "output_type": "stream",
     "text": [
      "<class 'pandas.core.frame.DataFrame'>\n",
      "Index: 128 entries, 26-Apr-21 to 31-Aug-21\n",
      "Data columns (total 4 columns):\n",
      " #   Column        Non-Null Count  Dtype \n",
      "---  ------        --------------  ----- \n",
      " 0   DOW           128 non-null    object\n",
      " 1   Daily         128 non-null    object\n",
      " 2   Forecast      128 non-null    object\n",
      " 3   Percent Diff  128 non-null    object\n",
      "dtypes: object(4)\n",
      "memory usage: 5.0+ KB\n"
     ]
    }
   ],
   "source": [
    "ts.info()"
   ]
  },
  {
   "cell_type": "markdown",
   "id": "1034a0fe-0229-45fa-aab6-8a45cfda4f3e",
   "metadata": {},
   "source": [
    "Using `pd.to_datetime()` function  ##### This function converts a scalar, array-like, Series or DataFrame/dict-like to a pandas datetime object."
   ]
  },
  {
   "cell_type": "code",
   "execution_count": 20,
   "id": "2c9db14f-c912-424e-8fcd-a2011e752a57",
   "metadata": {},
   "outputs": [
    {
     "name": "stdout",
     "output_type": "stream",
     "text": [
      "<class 'pandas.core.frame.DataFrame'>\n",
      "DatetimeIndex: 128 entries, 2021-04-26 to 2021-08-31\n",
      "Data columns (total 4 columns):\n",
      " #   Column        Non-Null Count  Dtype \n",
      "---  ------        --------------  ----- \n",
      " 0   DOW           128 non-null    object\n",
      " 1   Daily         128 non-null    object\n",
      " 2   Forecast      128 non-null    object\n",
      " 3   Percent Diff  128 non-null    object\n",
      "dtypes: object(4)\n",
      "memory usage: 5.0+ KB\n"
     ]
    }
   ],
   "source": [
    "ts = pd.read_csv(filepath,\n",
    "                 index_col=0,\n",
    "                 usecols=[0,1,3, 7, 6])\n",
    "\n",
    "ts.index = pd.to_datetime(ts.index, format=\"%d-%b-%y\")\n",
    "ts.info()"
   ]
  },
  {
   "cell_type": "code",
   "execution_count": 21,
   "id": "676c865c-16fe-4907-bfed-7a90f3a271fc",
   "metadata": {},
   "outputs": [
    {
     "name": "stderr",
     "output_type": "stream",
     "text": [
      "C:\\Users\\musta\\AppData\\Local\\Temp\\ipykernel_5308\\2480265534.py:1: UserWarning: Could not infer format, so each element will be parsed individually, falling back to `dateutil`. To ensure parsing is consistent and as-expected, please specify a format.\n",
      "  ts = pd.read_csv(filepath,\n"
     ]
    },
    {
     "data": {
      "text/html": [
       "<div>\n",
       "<style scoped>\n",
       "    .dataframe tbody tr th:only-of-type {\n",
       "        vertical-align: middle;\n",
       "    }\n",
       "\n",
       "    .dataframe tbody tr th {\n",
       "        vertical-align: top;\n",
       "    }\n",
       "\n",
       "    .dataframe thead th {\n",
       "        text-align: right;\n",
       "    }\n",
       "</style>\n",
       "<table border=\"1\" class=\"dataframe\">\n",
       "  <thead>\n",
       "    <tr style=\"text-align: right;\">\n",
       "      <th></th>\n",
       "      <th>DOW</th>\n",
       "      <th>Daily</th>\n",
       "      <th>Forecast</th>\n",
       "      <th>Percent Diff</th>\n",
       "    </tr>\n",
       "    <tr>\n",
       "      <th>Date</th>\n",
       "      <th></th>\n",
       "      <th></th>\n",
       "      <th></th>\n",
       "      <th></th>\n",
       "    </tr>\n",
       "  </thead>\n",
       "  <tbody>\n",
       "    <tr>\n",
       "      <th>2021-04-26</th>\n",
       "      <td>Friday</td>\n",
       "      <td>$125,789.89</td>\n",
       "      <td>$235,036.46</td>\n",
       "      <td>-46.48%</td>\n",
       "    </tr>\n",
       "    <tr>\n",
       "      <th>2021-04-27</th>\n",
       "      <td>Saturday</td>\n",
       "      <td>$99,374.01</td>\n",
       "      <td>$197,622.55</td>\n",
       "      <td>-49.72%</td>\n",
       "    </tr>\n",
       "    <tr>\n",
       "      <th>2021-04-28</th>\n",
       "      <td>Sunday</td>\n",
       "      <td>$82,203.16</td>\n",
       "      <td>$116,991.26</td>\n",
       "      <td>-29.74%</td>\n",
       "    </tr>\n",
       "    <tr>\n",
       "      <th>2021-04-29</th>\n",
       "      <td>Monday</td>\n",
       "      <td>$33,530.26</td>\n",
       "      <td>$66,652.65</td>\n",
       "      <td>-49.69%</td>\n",
       "    </tr>\n",
       "    <tr>\n",
       "      <th>2021-04-30</th>\n",
       "      <td>Tuesday</td>\n",
       "      <td>$30,105.24</td>\n",
       "      <td>$34,828.19</td>\n",
       "      <td>-13.56%</td>\n",
       "    </tr>\n",
       "  </tbody>\n",
       "</table>\n",
       "</div>"
      ],
      "text/plain": [
       "                 DOW          Daily       Forecast Percent Diff\n",
       "Date                                                           \n",
       "2021-04-26    Friday   $125,789.89    $235,036.46       -46.48%\n",
       "2021-04-27  Saturday    $99,374.01    $197,622.55       -49.72%\n",
       "2021-04-28    Sunday    $82,203.16    $116,991.26       -29.74%\n",
       "2021-04-29    Monday    $33,530.26     $66,652.65       -49.69%\n",
       "2021-04-30   Tuesday    $30,105.24     $34,828.19       -13.56%"
      ]
     },
     "execution_count": 21,
     "metadata": {},
     "output_type": "execute_result"
    }
   ],
   "source": [
    "ts = pd.read_csv(filepath,\n",
    "                 header=0,\n",
    "                 parse_dates=['Date'],\n",
    "                 index_col=0,\n",
    "                 #infer_datetime_format= True, # infer_datetime_format is deprecated since version 2.0.0 (already the default)\n",
    "                 usecols=['Date',\n",
    "                          'DOW',\n",
    "                          'Daily',\n",
    "                          'Forecast',\n",
    "                          'Percent Diff'])\n",
    "ts.head()"
   ]
  },
  {
   "cell_type": "markdown",
   "id": "c1f2c015-77b6-4e59-b300-79df45c13c9f",
   "metadata": {
    "tags": []
   },
   "source": [
    "# Recipe 2: Reading data from an Excel file\n",
    "* Learn how to read data from Excel files using pandas \n",
    "* Learn how to read from multiple sheets into DataFrames"
   ]
  },
  {
   "cell_type": "markdown",
   "id": "6c348d1b-52a6-4a3a-9a7e-7fb4facba5fe",
   "metadata": {},
   "source": [
    "* To install openpyxl using conda, run the following command in the terminal:\n",
    "\n",
    "```\n",
    "conda install openpyxl\n",
    "```\n",
    "* To install using pip, run the following command:\n",
    "\n",
    "```\n",
    "pip install openpyxl\n",
    "```"
   ]
  },
  {
   "cell_type": "code",
   "execution_count": 108,
   "id": "aff3d06e-12de-4cc9-9785-ff2548c434ed",
   "metadata": {},
   "outputs": [],
   "source": [
    "#!conda install openpyxl -y\n",
    "#!pip install openpyxl"
   ]
  },
  {
   "cell_type": "code",
   "execution_count": 2,
   "id": "a4610e13-c484-4b65-af84-bc33da9c9ea4",
   "metadata": {},
   "outputs": [],
   "source": [
    "import pandas as pd\n",
    "from pathlib import Path\n",
    "filepath = Path('C:/Users/musta/TS Yotube/Lab 1/sales_trx_data.xlsx')"
   ]
  },
  {
   "cell_type": "code",
   "execution_count": 3,
   "id": "32671e24-3314-46b0-aa9f-ff7d8e508383",
   "metadata": {},
   "outputs": [
    {
     "data": {
      "text/plain": [
       "True"
      ]
     },
     "execution_count": 3,
     "metadata": {},
     "output_type": "execute_result"
    }
   ],
   "source": [
    "filepath.exists()"
   ]
  },
  {
   "cell_type": "code",
   "execution_count": 4,
   "id": "93768b2a-bc9e-4a6a-8f72-cfdf6ec017f4",
   "metadata": {},
   "outputs": [
    {
     "data": {
      "text/plain": [
       "'3.1.5'"
      ]
     },
     "execution_count": 4,
     "metadata": {},
     "output_type": "execute_result"
    }
   ],
   "source": [
    "import openpyxl\n",
    "openpyxl.__version__"
   ]
  },
  {
   "cell_type": "code",
   "execution_count": 5,
   "id": "63bbe7dd-7677-4642-88a3-37c2861a031f",
   "metadata": {},
   "outputs": [
    {
     "data": {
      "text/plain": [
       "['2017', '2018']"
      ]
     },
     "execution_count": 5,
     "metadata": {},
     "output_type": "execute_result"
    }
   ],
   "source": [
    "excelfile = pd.ExcelFile(filepath)#object\n",
    "excelfile.sheet_names"
   ]
  },
  {
   "cell_type": "code",
   "execution_count": 6,
   "id": "ce1c5c12-a858-4438-92dd-bc4b03b344e0",
   "metadata": {},
   "outputs": [
    {
     "data": {
      "text/html": [
       "<div>\n",
       "<style scoped>\n",
       "    .dataframe tbody tr th:only-of-type {\n",
       "        vertical-align: middle;\n",
       "    }\n",
       "\n",
       "    .dataframe tbody tr th {\n",
       "        vertical-align: top;\n",
       "    }\n",
       "\n",
       "    .dataframe thead th {\n",
       "        text-align: right;\n",
       "    }\n",
       "</style>\n",
       "<table border=\"1\" class=\"dataframe\">\n",
       "  <thead>\n",
       "    <tr style=\"text-align: right;\">\n",
       "      <th></th>\n",
       "      <th>Line_Item_ID</th>\n",
       "      <th>Date</th>\n",
       "      <th>Credit_Card_Number</th>\n",
       "      <th>Quantity</th>\n",
       "      <th>Menu_Item</th>\n",
       "    </tr>\n",
       "  </thead>\n",
       "  <tbody>\n",
       "    <tr>\n",
       "      <th>0</th>\n",
       "      <td>1</td>\n",
       "      <td>2017-01-01</td>\n",
       "      <td>7437926611570790</td>\n",
       "      <td>1</td>\n",
       "      <td>spicy miso ramen</td>\n",
       "    </tr>\n",
       "    <tr>\n",
       "      <th>1</th>\n",
       "      <td>2</td>\n",
       "      <td>2017-01-01</td>\n",
       "      <td>7437926611570790</td>\n",
       "      <td>1</td>\n",
       "      <td>spicy miso ramen</td>\n",
       "    </tr>\n",
       "    <tr>\n",
       "      <th>2</th>\n",
       "      <td>3</td>\n",
       "      <td>2017-01-01</td>\n",
       "      <td>8421920068932810</td>\n",
       "      <td>3</td>\n",
       "      <td>tori paitan ramen</td>\n",
       "    </tr>\n",
       "    <tr>\n",
       "      <th>3</th>\n",
       "      <td>4</td>\n",
       "      <td>2017-01-01</td>\n",
       "      <td>8421920068932810</td>\n",
       "      <td>3</td>\n",
       "      <td>tori paitan ramen</td>\n",
       "    </tr>\n",
       "    <tr>\n",
       "      <th>4</th>\n",
       "      <td>5</td>\n",
       "      <td>2017-01-01</td>\n",
       "      <td>4787310681569640</td>\n",
       "      <td>1</td>\n",
       "      <td>truffle butter ramen</td>\n",
       "    </tr>\n",
       "    <tr>\n",
       "      <th>...</th>\n",
       "      <td>...</td>\n",
       "      <td>...</td>\n",
       "      <td>...</td>\n",
       "      <td>...</td>\n",
       "      <td>...</td>\n",
       "    </tr>\n",
       "    <tr>\n",
       "      <th>36759</th>\n",
       "      <td>36760</td>\n",
       "      <td>2017-12-31</td>\n",
       "      <td>3149176814183170</td>\n",
       "      <td>4</td>\n",
       "      <td>vegetarian curry + king trumpet mushroom ramen</td>\n",
       "    </tr>\n",
       "    <tr>\n",
       "      <th>36760</th>\n",
       "      <td>36761</td>\n",
       "      <td>2017-12-31</td>\n",
       "      <td>2005206728506200</td>\n",
       "      <td>1</td>\n",
       "      <td>tonkotsu ramen</td>\n",
       "    </tr>\n",
       "    <tr>\n",
       "      <th>36761</th>\n",
       "      <td>36762</td>\n",
       "      <td>2017-12-31</td>\n",
       "      <td>2005206728506200</td>\n",
       "      <td>1</td>\n",
       "      <td>tonkotsu ramen</td>\n",
       "    </tr>\n",
       "    <tr>\n",
       "      <th>36762</th>\n",
       "      <td>36763</td>\n",
       "      <td>2017-12-31</td>\n",
       "      <td>1130414909788170</td>\n",
       "      <td>2</td>\n",
       "      <td>soft-shell miso crab ramen</td>\n",
       "    </tr>\n",
       "    <tr>\n",
       "      <th>36763</th>\n",
       "      <td>36764</td>\n",
       "      <td>2017-12-31</td>\n",
       "      <td>1130414909788170</td>\n",
       "      <td>2</td>\n",
       "      <td>soft-shell miso crab ramen</td>\n",
       "    </tr>\n",
       "  </tbody>\n",
       "</table>\n",
       "<p>36764 rows × 5 columns</p>\n",
       "</div>"
      ],
      "text/plain": [
       "       Line_Item_ID       Date  Credit_Card_Number  Quantity  \\\n",
       "0                 1 2017-01-01    7437926611570790         1   \n",
       "1                 2 2017-01-01    7437926611570790         1   \n",
       "2                 3 2017-01-01    8421920068932810         3   \n",
       "3                 4 2017-01-01    8421920068932810         3   \n",
       "4                 5 2017-01-01    4787310681569640         1   \n",
       "...             ...        ...                 ...       ...   \n",
       "36759         36760 2017-12-31    3149176814183170         4   \n",
       "36760         36761 2017-12-31    2005206728506200         1   \n",
       "36761         36762 2017-12-31    2005206728506200         1   \n",
       "36762         36763 2017-12-31    1130414909788170         2   \n",
       "36763         36764 2017-12-31    1130414909788170         2   \n",
       "\n",
       "                                            Menu_Item  \n",
       "0                                    spicy miso ramen  \n",
       "1                                    spicy miso ramen  \n",
       "2                                   tori paitan ramen  \n",
       "3                                   tori paitan ramen  \n",
       "4                                truffle butter ramen  \n",
       "...                                               ...  \n",
       "36759  vegetarian curry + king trumpet mushroom ramen  \n",
       "36760                                  tonkotsu ramen  \n",
       "36761                                  tonkotsu ramen  \n",
       "36762                      soft-shell miso crab ramen  \n",
       "36763                      soft-shell miso crab ramen  \n",
       "\n",
       "[36764 rows x 5 columns]"
      ]
     },
     "execution_count": 6,
     "metadata": {},
     "output_type": "execute_result"
    }
   ],
   "source": [
    "excelfile.parse('2017')"
   ]
  },
  {
   "cell_type": "code",
   "execution_count": 7,
   "id": "1655b775-cd6c-4f28-8ed4-7e8b89e0e460",
   "metadata": {},
   "outputs": [
    {
     "data": {
      "text/html": [
       "<div>\n",
       "<style scoped>\n",
       "    .dataframe tbody tr th:only-of-type {\n",
       "        vertical-align: middle;\n",
       "    }\n",
       "\n",
       "    .dataframe tbody tr th {\n",
       "        vertical-align: top;\n",
       "    }\n",
       "\n",
       "    .dataframe thead th {\n",
       "        text-align: right;\n",
       "    }\n",
       "</style>\n",
       "<table border=\"1\" class=\"dataframe\">\n",
       "  <thead>\n",
       "    <tr style=\"text-align: right;\">\n",
       "      <th></th>\n",
       "      <th>Line_Item_ID</th>\n",
       "      <th>Credit_Card_Number</th>\n",
       "      <th>Quantity</th>\n",
       "      <th>Menu_Item</th>\n",
       "    </tr>\n",
       "    <tr>\n",
       "      <th>Date</th>\n",
       "      <th></th>\n",
       "      <th></th>\n",
       "      <th></th>\n",
       "      <th></th>\n",
       "    </tr>\n",
       "  </thead>\n",
       "  <tbody>\n",
       "    <tr>\n",
       "      <th>2017-01-01</th>\n",
       "      <td>1</td>\n",
       "      <td>7437926611570790</td>\n",
       "      <td>1</td>\n",
       "      <td>spicy miso ramen</td>\n",
       "    </tr>\n",
       "    <tr>\n",
       "      <th>2017-01-01</th>\n",
       "      <td>2</td>\n",
       "      <td>7437926611570790</td>\n",
       "      <td>1</td>\n",
       "      <td>spicy miso ramen</td>\n",
       "    </tr>\n",
       "    <tr>\n",
       "      <th>2017-01-01</th>\n",
       "      <td>3</td>\n",
       "      <td>8421920068932810</td>\n",
       "      <td>3</td>\n",
       "      <td>tori paitan ramen</td>\n",
       "    </tr>\n",
       "    <tr>\n",
       "      <th>2017-01-01</th>\n",
       "      <td>4</td>\n",
       "      <td>8421920068932810</td>\n",
       "      <td>3</td>\n",
       "      <td>tori paitan ramen</td>\n",
       "    </tr>\n",
       "    <tr>\n",
       "      <th>2017-01-01</th>\n",
       "      <td>5</td>\n",
       "      <td>4787310681569640</td>\n",
       "      <td>1</td>\n",
       "      <td>truffle butter ramen</td>\n",
       "    </tr>\n",
       "  </tbody>\n",
       "</table>\n",
       "</div>"
      ],
      "text/plain": [
       "            Line_Item_ID  Credit_Card_Number  Quantity             Menu_Item\n",
       "Date                                                                        \n",
       "2017-01-01             1    7437926611570790         1      spicy miso ramen\n",
       "2017-01-01             2    7437926611570790         1      spicy miso ramen\n",
       "2017-01-01             3    8421920068932810         3     tori paitan ramen\n",
       "2017-01-01             4    8421920068932810         3     tori paitan ramen\n",
       "2017-01-01             5    4787310681569640         1  truffle butter ramen"
      ]
     },
     "execution_count": 7,
     "metadata": {},
     "output_type": "execute_result"
    }
   ],
   "source": [
    "file2 = pd.ExcelFile(filepath)\n",
    "file2.parse(sheet_name='2017',\n",
    "                index_col=1,\n",
    "                parse_dates=True).head()\n",
    "\n"
   ]
  },
  {
   "cell_type": "code",
   "execution_count": null,
   "id": "c5ffbf69-c47d-498d-9057-f632dec91c74",
   "metadata": {},
   "outputs": [],
   "source": []
  },
  {
   "cell_type": "code",
   "execution_count": 8,
   "id": "9d46ccf9-8921-44ac-823e-e58836d6cb84",
   "metadata": {},
   "outputs": [
    {
     "data": {
      "text/plain": [
       "dict_keys([0, 1])"
      ]
     },
     "execution_count": 8,
     "metadata": {},
     "output_type": "execute_result"
    }
   ],
   "source": [
    "ts = pd.read_excel(filepath,\n",
    "                    engine='openpyxl',\n",
    "                    index_col=1,\n",
    "                    sheet_name=[0,1],\n",
    "                    parse_dates=True)\n",
    "ts.keys()"
   ]
  },
  {
   "cell_type": "code",
   "execution_count": 9,
   "id": "6e845a34-f261-4abd-a7ca-d7b78cf036b7",
   "metadata": {},
   "outputs": [
    {
     "data": {
      "text/plain": [
       "dict_keys(['2017', '2018'])"
      ]
     },
     "execution_count": 9,
     "metadata": {},
     "output_type": "execute_result"
    }
   ],
   "source": [
    "ts = pd.read_excel(filepath,\n",
    "                    engine='openpyxl',\n",
    "                    index_col=1,\n",
    "                    sheet_name=['2017','2018'],\n",
    "                    parse_dates=True)\n",
    "ts.keys()"
   ]
  },
  {
   "cell_type": "code",
   "execution_count": 10,
   "id": "0fc089c3-cfeb-4ad4-8dd9-e032b3e4b5a8",
   "metadata": {},
   "outputs": [
    {
     "data": {
      "text/plain": [
       "dict_keys(['2017', '2018'])"
      ]
     },
     "execution_count": 10,
     "metadata": {},
     "output_type": "execute_result"
    }
   ],
   "source": [
    "ts = pd.read_excel(filepath,\n",
    "                    engine='openpyxl',\n",
    "                    index_col=1,\n",
    "                    sheet_name=None,\n",
    "                    parse_dates=True)\n",
    "ts.keys()"
   ]
  },
  {
   "cell_type": "code",
   "execution_count": 11,
   "id": "532a5897-53eb-475f-914c-5a6c38c0f442",
   "metadata": {},
   "outputs": [
    {
     "name": "stdout",
     "output_type": "stream",
     "text": [
      "<class 'pandas.core.frame.DataFrame'>\n",
      "DatetimeIndex: 36764 entries, 2017-01-01 to 2017-12-31\n",
      "Data columns (total 4 columns):\n",
      " #   Column              Non-Null Count  Dtype \n",
      "---  ------              --------------  ----- \n",
      " 0   Line_Item_ID        36764 non-null  int64 \n",
      " 1   Credit_Card_Number  36764 non-null  int64 \n",
      " 2   Quantity            36764 non-null  int64 \n",
      " 3   Menu_Item           36764 non-null  object\n",
      "dtypes: int64(3), object(1)\n",
      "memory usage: 1.4+ MB\n"
     ]
    }
   ],
   "source": [
    "ts['2017'].info()"
   ]
  },
  {
   "cell_type": "code",
   "execution_count": 12,
   "id": "acd9b6a2-e291-4172-8310-027fbda6c880",
   "metadata": {},
   "outputs": [
    {
     "name": "stdout",
     "output_type": "stream",
     "text": [
      "<class 'pandas.core.frame.DataFrame'>\n",
      "DatetimeIndex: 37360 entries, 2018-01-01 to 2018-12-31\n",
      "Data columns (total 4 columns):\n",
      " #   Column              Non-Null Count  Dtype \n",
      "---  ------              --------------  ----- \n",
      " 0   Line_Item_ID        37360 non-null  int64 \n",
      " 1   Credit_Card_Number  37360 non-null  int64 \n",
      " 2   Quantity            37360 non-null  int64 \n",
      " 3   Menu_Item           37360 non-null  object\n",
      "dtypes: int64(3), object(1)\n",
      "memory usage: 1.4+ MB\n"
     ]
    }
   ],
   "source": [
    "ts['2018'].info()"
   ]
  },
  {
   "attachments": {
    "fbe9348c-dc24-4425-a7df-e42d80fa08b7.png": {
     "image/png": "[encoded data removed]"
    }
   },
   "cell_type": "markdown",
   "id": "7d4a2e04-b493-4fcf-863a-4241acca718f",
   "metadata": {},
   "source": [
    "![edited.png](attachment:fbe9348c-dc24-4425-a7df-e42d80fa08b7.png)"
   ]
  },
  {
   "cell_type": "code",
   "execution_count": 13,
   "id": "8bb16eb6-c6e7-4e27-aa5f-4c8003ace5a0",
   "metadata": {},
   "outputs": [],
   "source": [
    "ts_combined = pd.concat([ts['2017'],ts['2018']])"
   ]
  },
  {
   "cell_type": "code",
   "execution_count": 14,
   "id": "966a7f86-abce-49ca-846d-3f1f2f9f02d6",
   "metadata": {},
   "outputs": [
    {
     "name": "stdout",
     "output_type": "stream",
     "text": [
      "<class 'pandas.core.frame.DataFrame'>\n",
      "DatetimeIndex: 74124 entries, 2017-01-01 to 2018-12-31\n",
      "Data columns (total 4 columns):\n",
      " #   Column              Non-Null Count  Dtype \n",
      "---  ------              --------------  ----- \n",
      " 0   Line_Item_ID        74124 non-null  int64 \n",
      " 1   Credit_Card_Number  74124 non-null  int64 \n",
      " 2   Quantity            74124 non-null  int64 \n",
      " 3   Menu_Item           74124 non-null  object\n",
      "dtypes: int64(3), object(1)\n",
      "memory usage: 2.8+ MB\n"
     ]
    }
   ],
   "source": [
    "ts_combined.info()"
   ]
  },
  {
   "cell_type": "code",
   "execution_count": 15,
   "id": "3ddc8ab9-a868-475c-8d88-f6b7113d5892",
   "metadata": {},
   "outputs": [
    {
     "data": {
      "text/plain": [
       "MultiIndex([('2017', '2017-01-01'),\n",
       "            ('2017', '2017-01-01'),\n",
       "            ('2017', '2017-01-01'),\n",
       "            ('2017', '2017-01-01'),\n",
       "            ('2017', '2017-01-01'),\n",
       "            ('2017', '2017-01-01'),\n",
       "            ('2017', '2017-01-01'),\n",
       "            ('2017', '2017-01-01'),\n",
       "            ('2017', '2017-01-01'),\n",
       "            ('2017', '2017-01-01'),\n",
       "            ...\n",
       "            ('2018', '2018-12-31'),\n",
       "            ('2018', '2018-12-31'),\n",
       "            ('2018', '2018-12-31'),\n",
       "            ('2018', '2018-12-31'),\n",
       "            ('2018', '2018-12-31'),\n",
       "            ('2018', '2018-12-31'),\n",
       "            ('2018', '2018-12-31'),\n",
       "            ('2018', '2018-12-31'),\n",
       "            ('2018', '2018-12-31'),\n",
       "            ('2018', '2018-12-31')],\n",
       "           names=[None, 'Date'], length=74124)"
      ]
     },
     "execution_count": 15,
     "metadata": {},
     "output_type": "execute_result"
    }
   ],
   "source": [
    "pd.concat(ts).index"
   ]
  },
  {
   "attachments": {
    "e0119293-1144-464d-9a69-da86f2d11893.png": {
     "image/png": "[encoded data removed]"
    }
   },
   "cell_type": "markdown",
   "id": "1256fd4e-e34d-47a2-97bd-586546898e8c",
   "metadata": {},
   "source": [
    "![edited.png](attachment:e0119293-1144-464d-9a69-da86f2d11893.png)"
   ]
  },
  {
   "cell_type": "code",
   "execution_count": 16,
   "id": "c5e27638-bd4f-418f-95c9-da6c552e973c",
   "metadata": {},
   "outputs": [
    {
     "name": "stdout",
     "output_type": "stream",
     "text": [
      "            Line_Item_ID  Credit_Card_Number  Quantity             Menu_Item\n",
      "Date                                                                        \n",
      "2017-01-01             1    7437926611570790         1      spicy miso ramen\n",
      "2017-01-01             2    7437926611570790         1      spicy miso ramen\n",
      "2017-01-01             3    8421920068932810         3     tori paitan ramen\n",
      "2017-01-01             4    8421920068932810         3     tori paitan ramen\n",
      "2017-01-01             5    4787310681569640         1  truffle butter ramen\n"
     ]
    }
   ],
   "source": [
    "ts_combined = pd.concat(ts).droplevel(level=0)\n",
    "print(ts_combined.head())"
   ]
  },
  {
   "cell_type": "code",
   "execution_count": 17,
   "id": "31b66f18-eead-4210-b3f0-05e57fa12ba4",
   "metadata": {},
   "outputs": [
    {
     "data": {
      "text/plain": [
       "pandas.core.frame.DataFrame"
      ]
     },
     "execution_count": 17,
     "metadata": {},
     "output_type": "execute_result"
    }
   ],
   "source": [
    "ts = pd.read_excel(filepath,\n",
    "                   index_col=1,\n",
    "                   sheet_name='2018',\n",
    "                   parse_dates=True)\n",
    "type(ts)"
   ]
  },
  {
   "cell_type": "markdown",
   "id": "cb565e22-12c8-44c8-8c66-5e7b91f28275",
   "metadata": {},
   "source": [
    "# Recipe 3: Reading data from a URL\n"
   ]
  },
  {
   "cell_type": "code",
   "execution_count": 42,
   "id": "00bf2d0a-389a-4efd-ac70-af9cb4a74fbd",
   "metadata": {},
   "outputs": [],
   "source": [
    "#!conda install boto3 s3fs html5lib lxml -y\n",
    "#!pip install boto3 s3fs html5lib lxml"
   ]
  },
  {
   "cell_type": "markdown",
   "id": "d0d2d40d-e29b-499d-903f-ecf96fdf3b66",
   "metadata": {},
   "source": [
    "* To install using pip, you can use the following command:\n",
    "\n",
    "```\n",
    "pip install boto3 s3fs lxml\n",
    "```\n",
    "\n",
    "* To install using Conda, you can use:\n",
    "\n",
    "```\n",
    "conda install boto3 s3fs lxml -y\n",
    "```"
   ]
  },
  {
   "cell_type": "code",
   "execution_count": 43,
   "id": "0df2d7c3-ef1e-4101-890d-50ce9cfdb9cc",
   "metadata": {},
   "outputs": [],
   "source": [
    "import pandas as pd"
   ]
  },
  {
   "cell_type": "markdown",
   "id": "26f56e5a-a01d-482f-b5b0-e7cf8a677e80",
   "metadata": {},
   "source": [
    "## Reading from GitHub"
   ]
  },
  {
   "cell_type": "code",
   "execution_count": 23,
   "id": "c208b0e8-7f40-4f2b-938b-6b538492cd8b",
   "metadata": {},
   "outputs": [],
   "source": [
    "# example of produced error\n",
    "url = 'https://github.com/PacktPublishing/Time-Series-Analysis-with-Python-Cookbook-Second-Edition/blob/main/datasets/Ch2/AirQualityUCI.csv'\n",
    "# pd.read_csv(url)\n"
   ]
  },
  {
   "cell_type": "code",
   "execution_count": 24,
   "id": "1578a313-df89-4d15-81c0-511f50f49c4b",
   "metadata": {},
   "outputs": [
    {
     "data": {
      "text/html": [
       "<div>\n",
       "<style scoped>\n",
       "    .dataframe tbody tr th:only-of-type {\n",
       "        vertical-align: middle;\n",
       "    }\n",
       "\n",
       "    .dataframe tbody tr th {\n",
       "        vertical-align: top;\n",
       "    }\n",
       "\n",
       "    .dataframe thead th {\n",
       "        text-align: right;\n",
       "    }\n",
       "</style>\n",
       "<table border=\"1\" class=\"dataframe\">\n",
       "  <thead>\n",
       "    <tr style=\"text-align: right;\">\n",
       "      <th></th>\n",
       "      <th>CO(GT)</th>\n",
       "      <th>PT08.S1(CO)</th>\n",
       "      <th>NMHC(GT)</th>\n",
       "    </tr>\n",
       "    <tr>\n",
       "      <th>Date</th>\n",
       "      <th></th>\n",
       "      <th></th>\n",
       "      <th></th>\n",
       "    </tr>\n",
       "  </thead>\n",
       "  <tbody>\n",
       "    <tr>\n",
       "      <th>10/03/2004</th>\n",
       "      <td>2.6</td>\n",
       "      <td>1360.00</td>\n",
       "      <td>150</td>\n",
       "    </tr>\n",
       "    <tr>\n",
       "      <th>10/03/2004</th>\n",
       "      <td>2.0</td>\n",
       "      <td>1292.25</td>\n",
       "      <td>112</td>\n",
       "    </tr>\n",
       "    <tr>\n",
       "      <th>10/03/2004</th>\n",
       "      <td>2.2</td>\n",
       "      <td>1402.00</td>\n",
       "      <td>88</td>\n",
       "    </tr>\n",
       "  </tbody>\n",
       "</table>\n",
       "</div>"
      ],
      "text/plain": [
       "            CO(GT)  PT08.S1(CO)  NMHC(GT)\n",
       "Date                                     \n",
       "10/03/2004     2.6      1360.00       150\n",
       "10/03/2004     2.0      1292.25       112\n",
       "10/03/2004     2.2      1402.00        88"
      ]
     },
     "execution_count": 24,
     "metadata": {},
     "output_type": "execute_result"
    }
   ],
   "source": [
    "url = 'https://raw.githubusercontent.com/PacktPublishing/Time-Series-Analysis-with-Python-Cookbook-Second-Edition/refs/heads/main/datasets/Ch2/AirQualityUCI.csv'\n",
    "\n",
    "df = pd.read_csv(url,\n",
    "                 delimiter=';',\n",
    "                 parse_dates=['Date'],\n",
    "                 index_col='Date')\n",
    "\n",
    "df.iloc[:3,1:4]"
   ]
  },
  {
   "cell_type": "code",
   "execution_count": 26,
   "id": "480094d2-0205-465f-a735-e521cee92b0d",
   "metadata": {},
   "outputs": [
    {
     "name": "stderr",
     "output_type": "stream",
     "text": [
      "C:\\Users\\musta\\AppData\\Local\\Temp\\ipykernel_20016\\2784474071.py:2: FutureWarning: The argument 'date_parser' is deprecated and will be removed in a future version. Please use 'date_format' instead, or read your data in as 'object' dtype and then call 'to_datetime'.\n",
      "  df = pd.read_csv(url,\n"
     ]
    },
    {
     "data": {
      "text/html": [
       "<div>\n",
       "<style scoped>\n",
       "    .dataframe tbody tr th:only-of-type {\n",
       "        vertical-align: middle;\n",
       "    }\n",
       "\n",
       "    .dataframe tbody tr th {\n",
       "        vertical-align: top;\n",
       "    }\n",
       "\n",
       "    .dataframe thead th {\n",
       "        text-align: right;\n",
       "    }\n",
       "</style>\n",
       "<table border=\"1\" class=\"dataframe\">\n",
       "  <thead>\n",
       "    <tr style=\"text-align: right;\">\n",
       "      <th></th>\n",
       "      <th>CO(GT)</th>\n",
       "      <th>PT08.S1(CO)</th>\n",
       "      <th>NMHC(GT)</th>\n",
       "    </tr>\n",
       "    <tr>\n",
       "      <th>Date</th>\n",
       "      <th></th>\n",
       "      <th></th>\n",
       "      <th></th>\n",
       "    </tr>\n",
       "  </thead>\n",
       "  <tbody>\n",
       "    <tr>\n",
       "      <th>2004-03-10</th>\n",
       "      <td>2.6</td>\n",
       "      <td>1360.00</td>\n",
       "      <td>150</td>\n",
       "    </tr>\n",
       "    <tr>\n",
       "      <th>2004-03-10</th>\n",
       "      <td>2.0</td>\n",
       "      <td>1292.25</td>\n",
       "      <td>112</td>\n",
       "    </tr>\n",
       "    <tr>\n",
       "      <th>2004-03-10</th>\n",
       "      <td>2.2</td>\n",
       "      <td>1402.00</td>\n",
       "      <td>88</td>\n",
       "    </tr>\n",
       "  </tbody>\n",
       "</table>\n",
       "</div>"
      ],
      "text/plain": [
       "            CO(GT)  PT08.S1(CO)  NMHC(GT)\n",
       "Date                                     \n",
       "2004-03-10     2.6      1360.00       150\n",
       "2004-03-10     2.0      1292.25       112\n",
       "2004-03-10     2.2      1402.00        88"
      ]
     },
     "execution_count": 26,
     "metadata": {},
     "output_type": "execute_result"
    }
   ],
   "source": [
    "date_parser = lambda x: pd.to_datetime(x,format=\"%d/%m/%Y\")\n",
    "df = pd.read_csv(url,\n",
    "                delimiter=';',\n",
    "                index_col='Date',\n",
    "                date_parser=date_parser)\n",
    "df.iloc[:3,1:4]"
   ]
  }
 ],
 "metadata": {
  "kernelspec": {
   "display_name": "Python 3 (ipykernel)",
   "language": "python",
   "name": "python3"
  },
  "language_info": {
   "codemirror_mode": {
    "name": "ipython",
    "version": 3
   },
   "file_extension": ".py",
   "mimetype": "text/x-python",
   "name": "python",
   "nbconvert_exporter": "python",
   "pygments_lexer": "ipython3",
   "version": "3.11.11"
  }
 },
 "nbformat": 4,
 "nbformat_minor": 5
}
